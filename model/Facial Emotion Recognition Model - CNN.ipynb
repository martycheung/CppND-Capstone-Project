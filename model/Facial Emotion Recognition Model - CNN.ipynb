{
 "cells": [
  {
   "cell_type": "markdown",
   "metadata": {
    "colab_type": "text",
    "id": "dqvAAVhaUr7x"
   },
   "source": [
    "**This is the 2nd model iteration. The 1st model was attempting to use transfer learning from ImageNet, but only achieved ~42% accuracy. Also I was using a colour model to predict on grayscale images with is a bit inefficient. The state of the art is over 70%, so I want to try to get a simple CNN model without transfer learning over say 60% accuracy.\n",
    "\n",
    "## Introduction\n",
    "A quick model to classify emotion in faces. This model is intended to be used for the Capstone Project in the Udacity C++ Nanodegree. The idea is first to build a working model using Keras/Tensorflow in Python, without worrying too much about optimising performance since the aim of this project is to showcase C++ programming. Then we will save the model checkpoints and deploy it for model inference using C++. \n",
    "\n",
    "## Model and Data Summary\n",
    "- Data: Facial Emotion Recognition Dataset (FER) https://www.kaggle.com/c/challenges-in-representation-learning-facial-expression-recognition-challenge/data\n",
    "- Model Architecture: MobileNetV2 (lightweight for real-time)\n",
    "- Pre-trained Model using ImageNet weights, fine-tuned to FER dataset  \n",
    "\n",
    "**Note:** Model building process is very similar to this face mask detector transfer learning tutorial https://www.pyimagesearch.com/2020/05/04/covid-19-face-mask-detector-with-opencv-keras-tensorflow-and-deep-learning/, but just applying to the new dataset. However I am not using the Python API of OpenCV, I will be saving the model checkpoints and then deploying using the OpenCV and Tensorflow C++ APIs."
   ]
  },
  {
   "cell_type": "code",
   "execution_count": 1,
   "metadata": {
    "colab": {
     "base_uri": "https://localhost:8080/",
     "height": 122
    },
    "colab_type": "code",
    "executionInfo": {
     "elapsed": 16511,
     "status": "ok",
     "timestamp": 1589313892732,
     "user": {
      "displayName": "Martin Cheung",
      "photoUrl": "",
      "userId": "14827305478773109166"
     },
     "user_tz": -120
    },
    "id": "YNoFau7_VQ6F",
    "outputId": "4f631f75-efd5-4dcf-ac91-012c4a160de9"
   },
   "outputs": [
    {
     "name": "stdout",
     "output_type": "stream",
     "text": [
      "Go to this URL in a browser: https://accounts.google.com/o/oauth2/auth?client_id=947318989803-6bn6qk8qdgf4n4g3pfee6491hc0brc4i.apps.googleusercontent.com&redirect_uri=urn%3aietf%3awg%3aoauth%3a2.0%3aoob&response_type=code&scope=email%20https%3a%2f%2fwww.googleapis.com%2fauth%2fdocs.test%20https%3a%2f%2fwww.googleapis.com%2fauth%2fdrive%20https%3a%2f%2fwww.googleapis.com%2fauth%2fdrive.photos.readonly%20https%3a%2f%2fwww.googleapis.com%2fauth%2fpeopleapi.readonly\n",
      "\n",
      "Enter your authorization code:\n",
      "··········\n",
      "Mounted at /content/gdrive\n"
     ]
    }
   ],
   "source": [
    "from google.colab import drive\n",
    "drive.mount('/content/gdrive', force_remount=True)\n",
    "root_dir = \"/content/gdrive/My Drive/\"\n",
    "base_dir = root_dir\n",
    "path = base_dir"
   ]
  },
  {
   "cell_type": "code",
   "execution_count": 0,
   "metadata": {
    "colab": {},
    "colab_type": "code",
    "id": "Y7NWot6bUr7y"
   },
   "outputs": [],
   "source": [
    "from tensorflow.keras.preprocessing.image import ImageDataGenerator\n",
    "from tensorflow.keras.applications import ResNet50\n",
    "from tensorflow.keras.layers import AveragePooling2D, GlobalAveragePooling2D, Dropout, Flatten, Dense, Input, Conv2D, MaxPooling2D\n",
    "from tensorflow.keras.models import Model, load_model\n",
    "from tensorflow.keras.optimizers import Adam\n",
    "from tensorflow.keras.applications.resnet50 import preprocess_input\n",
    "from tensorflow.keras.preprocessing.image import img_to_array, load_img\n",
    "from tensorflow.keras.utils import to_categorical\n",
    "from tensorflow.keras.callbacks import EarlyStopping\n",
    "from sklearn.preprocessing import LabelBinarizer\n",
    "from sklearn.model_selection import train_test_split\n",
    "from sklearn.metrics import classification_report\n",
    "import matplotlib.pyplot as plt\n",
    "import numpy as np\n",
    "import argparse\n",
    "import os\n",
    "import pandas as pd\n",
    "\n",
    "INIT_LR = 1e-3\n",
    "EPOCHS = 500\n",
    "BATCH_SIZE = 256"
   ]
  },
  {
   "cell_type": "markdown",
   "metadata": {
    "colab_type": "text",
    "id": "o1GwioKpUr71"
   },
   "source": [
    "## Data Pre-processing and Augmentation"
   ]
  },
  {
   "cell_type": "code",
   "execution_count": 89,
   "metadata": {
    "colab": {
     "base_uri": "https://localhost:8080/",
     "height": 204
    },
    "colab_type": "code",
    "executionInfo": {
     "elapsed": 3664,
     "status": "ok",
     "timestamp": 1589320365732,
     "user": {
      "displayName": "Martin Cheung",
      "photoUrl": "",
      "userId": "14827305478773109166"
     },
     "user_tz": -120
    },
    "id": "RTy01n4lUr71",
    "outputId": "70c007bd-1bc1-401b-9573-4150def90f57"
   },
   "outputs": [
    {
     "data": {
      "text/html": [
       "<div>\n",
       "<style scoped>\n",
       "    .dataframe tbody tr th:only-of-type {\n",
       "        vertical-align: middle;\n",
       "    }\n",
       "\n",
       "    .dataframe tbody tr th {\n",
       "        vertical-align: top;\n",
       "    }\n",
       "\n",
       "    .dataframe thead th {\n",
       "        text-align: right;\n",
       "    }\n",
       "</style>\n",
       "<table border=\"1\" class=\"dataframe\">\n",
       "  <thead>\n",
       "    <tr style=\"text-align: right;\">\n",
       "      <th></th>\n",
       "      <th>emotion</th>\n",
       "      <th>Usage</th>\n",
       "      <th>pixels</th>\n",
       "    </tr>\n",
       "  </thead>\n",
       "  <tbody>\n",
       "    <tr>\n",
       "      <th>0</th>\n",
       "      <td>0</td>\n",
       "      <td>Training</td>\n",
       "      <td>70 80 82 72 58 58 60 63 54 58 60 48 89 115 121...</td>\n",
       "    </tr>\n",
       "    <tr>\n",
       "      <th>1</th>\n",
       "      <td>0</td>\n",
       "      <td>Training</td>\n",
       "      <td>151 150 147 155 148 133 111 140 170 174 182 15...</td>\n",
       "    </tr>\n",
       "    <tr>\n",
       "      <th>2</th>\n",
       "      <td>2</td>\n",
       "      <td>Training</td>\n",
       "      <td>231 212 156 164 174 138 161 173 182 200 106 38...</td>\n",
       "    </tr>\n",
       "    <tr>\n",
       "      <th>3</th>\n",
       "      <td>4</td>\n",
       "      <td>Training</td>\n",
       "      <td>24 32 36 30 32 23 19 20 30 41 21 22 32 34 21 1...</td>\n",
       "    </tr>\n",
       "    <tr>\n",
       "      <th>4</th>\n",
       "      <td>6</td>\n",
       "      <td>Training</td>\n",
       "      <td>4 0 0 0 0 0 0 0 0 0 0 0 3 15 23 28 48 50 58 84...</td>\n",
       "    </tr>\n",
       "  </tbody>\n",
       "</table>\n",
       "</div>"
      ],
      "text/plain": [
       "   emotion     Usage                                             pixels\n",
       "0        0  Training  70 80 82 72 58 58 60 63 54 58 60 48 89 115 121...\n",
       "1        0  Training  151 150 147 155 148 133 111 140 170 174 182 15...\n",
       "2        2  Training  231 212 156 164 174 138 161 173 182 200 106 38...\n",
       "3        4  Training  24 32 36 30 32 23 19 20 30 41 21 22 32 34 21 1...\n",
       "4        6  Training  4 0 0 0 0 0 0 0 0 0 0 0 3 15 23 28 48 50 58 84..."
      ]
     },
     "execution_count": 89,
     "metadata": {
      "tags": []
     },
     "output_type": "execute_result"
    }
   ],
   "source": [
    "# Read in csv of pixel vectors, then convert to 48x48 numpy arrays\n",
    "# Also make np array of labels\n",
    "raw_data = pd.read_csv(path+\"data/icml_face_data.csv\")\n",
    "raw_data.head()"
   ]
  },
  {
   "cell_type": "code",
   "execution_count": 90,
   "metadata": {
    "colab": {
     "base_uri": "https://localhost:8080/",
     "height": 34
    },
    "colab_type": "code",
    "executionInfo": {
     "elapsed": 3192,
     "status": "ok",
     "timestamp": 1589320365733,
     "user": {
      "displayName": "Martin Cheung",
      "photoUrl": "",
      "userId": "14827305478773109166"
     },
     "user_tz": -120
    },
    "id": "_MoSoB_gUr74",
    "outputId": "d8d5f836-6fd5-4ef2-c35f-26b42fee4ecf"
   },
   "outputs": [
    {
     "data": {
      "text/plain": [
       "(35887, 3)"
      ]
     },
     "execution_count": 90,
     "metadata": {
      "tags": []
     },
     "output_type": "execute_result"
    }
   ],
   "source": [
    "raw_np = raw_data.values\n",
    "raw_np.shape"
   ]
  },
  {
   "cell_type": "code",
   "execution_count": 0,
   "metadata": {
    "colab": {},
    "colab_type": "code",
    "id": "Lf4rX8WQUr77"
   },
   "outputs": [],
   "source": [
    "images = np.array([np.reshape([int(s) for s in pic.split(' ')], (48,48)) for pic in raw_np[:,2]])/255.0\n",
    "labels = raw_np[:,0].astype('int')"
   ]
  },
  {
   "cell_type": "code",
   "execution_count": 92,
   "metadata": {
    "colab": {
     "base_uri": "https://localhost:8080/",
     "height": 284
    },
    "colab_type": "code",
    "executionInfo": {
     "elapsed": 29399,
     "status": "ok",
     "timestamp": 1589320392729,
     "user": {
      "displayName": "Martin Cheung",
      "photoUrl": "",
      "userId": "14827305478773109166"
     },
     "user_tz": -120
    },
    "id": "nN01hV1WUr79",
    "outputId": "1afdb701-8044-4495-b8da-18b53fd3ea52"
   },
   "outputs": [
    {
     "data": {
      "text/plain": [
       "<matplotlib.image.AxesImage at 0x7fecdbad6240>"
      ]
     },
     "execution_count": 92,
     "metadata": {
      "tags": []
     },
     "output_type": "execute_result"
    },
    {
     "data": {
      "image/png": "[encoded data removed]",
      "text/plain": [
       "<Figure size 432x288 with 1 Axes>"
      ]
     },
     "metadata": {
      "tags": []
     },
     "output_type": "display_data"
    }
   ],
   "source": [
    "plt.imshow(images[0], cmap='gray')"
   ]
  },
  {
   "cell_type": "code",
   "execution_count": 0,
   "metadata": {
    "colab": {},
    "colab_type": "code",
    "id": "detZYMK6Ur8A"
   },
   "outputs": [],
   "source": [
    "# # perform one-hot encoding on the labels\n",
    "# lb = LabelBinarizer()\n",
    "# labels = lb.fit_transform(labels)\n",
    "# labels = to_categorical(labels)"
   ]
  },
  {
   "cell_type": "code",
   "execution_count": 0,
   "metadata": {
    "colab": {},
    "colab_type": "code",
    "id": "ynQJZIExUr8C"
   },
   "outputs": [],
   "source": [
    "# Split Train, Test, Val\n",
    "train_images = images[raw_np[:,1]==\"Training\"][...,np.newaxis]\n",
    "valid_images = images[raw_np[:,1]==\"PublicTest\"][...,np.newaxis]\n",
    "test_images = images[raw_np[:,1]==\"PrivateTest\"][...,np.newaxis]\n",
    "\n",
    "train_labels = labels[raw_np[:,1]==\"Training\"]\n",
    "valid_labels = labels[raw_np[:,1]==\"PublicTest\"]\n",
    "test_labels = labels[raw_np[:,1]==\"PrivateTest\"]"
   ]
  },
  {
   "cell_type": "code",
   "execution_count": 95,
   "metadata": {
    "colab": {
     "base_uri": "https://localhost:8080/",
     "height": 34
    },
    "colab_type": "code",
    "executionInfo": {
     "elapsed": 26887,
     "status": "ok",
     "timestamp": 1589320393189,
     "user": {
      "displayName": "Martin Cheung",
      "photoUrl": "",
      "userId": "14827305478773109166"
     },
     "user_tz": -120
    },
    "id": "3t7_aZ7TUr8E",
    "outputId": "aa27fa31-ffce-4bad-a565-d67d482ee98a"
   },
   "outputs": [
    {
     "data": {
      "text/plain": [
       "array([0, 0, 2, ..., 4, 0, 4])"
      ]
     },
     "execution_count": 95,
     "metadata": {
      "tags": []
     },
     "output_type": "execute_result"
    }
   ],
   "source": [
    "train_labels"
   ]
  },
  {
   "cell_type": "code",
   "execution_count": 96,
   "metadata": {
    "colab": {
     "base_uri": "https://localhost:8080/",
     "height": 34
    },
    "colab_type": "code",
    "executionInfo": {
     "elapsed": 26244,
     "status": "ok",
     "timestamp": 1589320393190,
     "user": {
      "displayName": "Martin Cheung",
      "photoUrl": "",
      "userId": "14827305478773109166"
     },
     "user_tz": -120
    },
    "id": "g_Jws3eFUr8G",
    "outputId": "537051a3-d236-4fe8-d21a-a4c8ebc88474"
   },
   "outputs": [
    {
     "data": {
      "text/plain": [
       "(28709, 48, 48, 1)"
      ]
     },
     "execution_count": 96,
     "metadata": {
      "tags": []
     },
     "output_type": "execute_result"
    }
   ],
   "source": [
    "train_images.shape"
   ]
  },
  {
   "cell_type": "markdown",
   "metadata": {
    "colab_type": "text",
    "id": "Nn9gerFlUr8I"
   },
   "source": [
    "## Keras Image Data Generator"
   ]
  },
  {
   "cell_type": "code",
   "execution_count": 0,
   "metadata": {
    "colab": {},
    "colab_type": "code",
    "id": "I8Iu2k0qUr8I"
   },
   "outputs": [],
   "source": [
    "datagen = ImageDataGenerator(\n",
    "    rotation_range=20,\n",
    "    zoom_range=0.15,\n",
    "    width_shift_range=0.2,\n",
    "    height_shift_range=0.2,\n",
    "    shear_range=0.15,\n",
    "    horizontal_flip=True,\n",
    "    fill_mode=\"nearest\")\n"
   ]
  },
  {
   "cell_type": "markdown",
   "metadata": {
    "colab_type": "text",
    "id": "Zq1fIFbqUr8O"
   },
   "source": [
    "## Model Structure"
   ]
  },
  {
   "cell_type": "code",
   "execution_count": 0,
   "metadata": {
    "colab": {},
    "colab_type": "code",
    "id": "aG91z1S1Ur8O"
   },
   "outputs": [],
   "source": [
    "inputs = Input(shape=(48,48,1))\n",
    "X = Conv2D(32, kernel_size=(3,3), padding='same', activation='relu')(inputs)\n",
    "X = MaxPooling2D(pool_size=(2,2))(X)\n",
    "X = Dropout(0.25)(X)\n",
    "\n",
    "X = Conv2D(32, kernel_size=(3,3), padding='same', activation='relu')(X)\n",
    "X = Conv2D(32, kernel_size=(3,3), padding='same', activation='relu')(X)\n",
    "X = MaxPooling2D(pool_size=(2,2))(X)\n",
    "X = Dropout(0.25)(X)\n",
    "\n",
    "X = Flatten()(X)\n",
    "X = Dense(512, activation='relu')(X)\n",
    "X = Dropout(0.5)(X)\n",
    "outputs = Dense(7, activation='softmax')(X)\n",
    "\n",
    "model = Model(inputs=inputs, outputs=outputs)"
   ]
  },
  {
   "cell_type": "code",
   "execution_count": 48,
   "metadata": {
    "colab": {
     "base_uri": "https://localhost:8080/",
     "height": 561
    },
    "colab_type": "code",
    "executionInfo": {
     "elapsed": 783,
     "status": "ok",
     "timestamp": 1589315486828,
     "user": {
      "displayName": "Martin Cheung",
      "photoUrl": "",
      "userId": "14827305478773109166"
     },
     "user_tz": -120
    },
    "id": "SCVOV8iJUr8Q",
    "outputId": "0940fe9d-51e0-42f9-8a05-686eb41e1858"
   },
   "outputs": [
    {
     "name": "stdout",
     "output_type": "stream",
     "text": [
      "Model: \"model_2\"\n",
      "_________________________________________________________________\n",
      "Layer (type)                 Output Shape              Param #   \n",
      "=================================================================\n",
      "input_6 (InputLayer)         [(None, 48, 48, 1)]       0         \n",
      "_________________________________________________________________\n",
      "conv2d_9 (Conv2D)            (None, 48, 48, 32)        320       \n",
      "_________________________________________________________________\n",
      "max_pooling2d_6 (MaxPooling2 (None, 24, 24, 32)        0         \n",
      "_________________________________________________________________\n",
      "dropout_9 (Dropout)          (None, 24, 24, 32)        0         \n",
      "_________________________________________________________________\n",
      "conv2d_10 (Conv2D)           (None, 24, 24, 32)        9248      \n",
      "_________________________________________________________________\n",
      "conv2d_11 (Conv2D)           (None, 24, 24, 32)        9248      \n",
      "_________________________________________________________________\n",
      "max_pooling2d_7 (MaxPooling2 (None, 12, 12, 32)        0         \n",
      "_________________________________________________________________\n",
      "dropout_10 (Dropout)         (None, 12, 12, 32)        0         \n",
      "_________________________________________________________________\n",
      "flatten_3 (Flatten)          (None, 4608)              0         \n",
      "_________________________________________________________________\n",
      "dense_6 (Dense)              (None, 512)               2359808   \n",
      "_________________________________________________________________\n",
      "dropout_11 (Dropout)         (None, 512)               0         \n",
      "_________________________________________________________________\n",
      "dense_7 (Dense)              (None, 7)                 3591      \n",
      "=================================================================\n",
      "Total params: 2,382,215\n",
      "Trainable params: 2,382,215\n",
      "Non-trainable params: 0\n",
      "_________________________________________________________________\n"
     ]
    }
   ],
   "source": [
    "model.summary()"
   ]
  },
  {
   "cell_type": "markdown",
   "metadata": {
    "colab_type": "text",
    "id": "mUI-iMNmUr8T"
   },
   "source": [
    "## Train Model"
   ]
  },
  {
   "cell_type": "code",
   "execution_count": 54,
   "metadata": {
    "colab": {
     "base_uri": "https://localhost:8080/",
     "height": 1000
    },
    "colab_type": "code",
    "executionInfo": {
     "elapsed": 2681805,
     "status": "ok",
     "timestamp": 1589319845866,
     "user": {
      "displayName": "Martin Cheung",
      "photoUrl": "",
      "userId": "14827305478773109166"
     },
     "user_tz": -120
    },
    "id": "836jhbtuUr8T",
    "outputId": "ce4a4278-fc32-4aa1-84db-1b85211c6a5d"
   },
   "outputs": [
    {
     "name": "stdout",
     "output_type": "stream",
     "text": [
      "Epoch 1/500\n",
      "112/112 [==============================] - 14s 121ms/step - loss: 1.2448 - accuracy: 0.5258 - val_loss: 1.1220 - val_accuracy: 0.5726\n",
      "Epoch 2/500\n",
      "112/112 [==============================] - 13s 120ms/step - loss: 1.2401 - accuracy: 0.5286 - val_loss: 1.1146 - val_accuracy: 0.5765\n",
      "Epoch 3/500\n",
      "112/112 [==============================] - 13s 118ms/step - loss: 1.2436 - accuracy: 0.5256 - val_loss: 1.1118 - val_accuracy: 0.5756\n",
      "Epoch 4/500\n",
      "112/112 [==============================] - 13s 118ms/step - loss: 1.2441 - accuracy: 0.5286 - val_loss: 1.1023 - val_accuracy: 0.5787\n",
      "Epoch 5/500\n",
      "112/112 [==============================] - 13s 120ms/step - loss: 1.2395 - accuracy: 0.5284 - val_loss: 1.1142 - val_accuracy: 0.5798\n",
      "Epoch 6/500\n",
      "112/112 [==============================] - 13s 117ms/step - loss: 1.2356 - accuracy: 0.5315 - val_loss: 1.1063 - val_accuracy: 0.5751\n",
      "Epoch 7/500\n",
      "112/112 [==============================] - 13s 118ms/step - loss: 1.2350 - accuracy: 0.5289 - val_loss: 1.1231 - val_accuracy: 0.5729\n",
      "Epoch 8/500\n",
      "112/112 [==============================] - 13s 117ms/step - loss: 1.2365 - accuracy: 0.5309 - val_loss: 1.1094 - val_accuracy: 0.5790\n",
      "Epoch 9/500\n",
      "112/112 [==============================] - 13s 117ms/step - loss: 1.2440 - accuracy: 0.5295 - val_loss: 1.1115 - val_accuracy: 0.5717\n",
      "Epoch 10/500\n",
      "112/112 [==============================] - 13s 119ms/step - loss: 1.2329 - accuracy: 0.5309 - val_loss: 1.1144 - val_accuracy: 0.5731\n",
      "Epoch 11/500\n",
      "112/112 [==============================] - 13s 118ms/step - loss: 1.2339 - accuracy: 0.5281 - val_loss: 1.1147 - val_accuracy: 0.5782\n",
      "Epoch 12/500\n",
      "112/112 [==============================] - 13s 119ms/step - loss: 1.2340 - accuracy: 0.5302 - val_loss: 1.0950 - val_accuracy: 0.5879\n",
      "Epoch 13/500\n",
      "112/112 [==============================] - 13s 120ms/step - loss: 1.2340 - accuracy: 0.5299 - val_loss: 1.0987 - val_accuracy: 0.5854\n",
      "Epoch 14/500\n",
      "112/112 [==============================] - 13s 120ms/step - loss: 1.2353 - accuracy: 0.5289 - val_loss: 1.1106 - val_accuracy: 0.5768\n",
      "Epoch 15/500\n",
      "112/112 [==============================] - 13s 117ms/step - loss: 1.2382 - accuracy: 0.5281 - val_loss: 1.0994 - val_accuracy: 0.5765\n",
      "Epoch 16/500\n",
      "112/112 [==============================] - 13s 117ms/step - loss: 1.2351 - accuracy: 0.5270 - val_loss: 1.1092 - val_accuracy: 0.5809\n",
      "Epoch 17/500\n",
      "112/112 [==============================] - 13s 116ms/step - loss: 1.2321 - accuracy: 0.5299 - val_loss: 1.1032 - val_accuracy: 0.5776\n",
      "Epoch 18/500\n",
      "112/112 [==============================] - 13s 117ms/step - loss: 1.2266 - accuracy: 0.5342 - val_loss: 1.1129 - val_accuracy: 0.5731\n",
      "Epoch 19/500\n",
      "112/112 [==============================] - 13s 118ms/step - loss: 1.2273 - accuracy: 0.5321 - val_loss: 1.1051 - val_accuracy: 0.5882\n",
      "Epoch 20/500\n",
      "112/112 [==============================] - 13s 116ms/step - loss: 1.2307 - accuracy: 0.5309 - val_loss: 1.1111 - val_accuracy: 0.5812\n",
      "Epoch 21/500\n",
      "112/112 [==============================] - 13s 116ms/step - loss: 1.2323 - accuracy: 0.5330 - val_loss: 1.1064 - val_accuracy: 0.5743\n",
      "Epoch 22/500\n",
      "112/112 [==============================] - 13s 116ms/step - loss: 1.2292 - accuracy: 0.5321 - val_loss: 1.0980 - val_accuracy: 0.5857\n",
      "Epoch 23/500\n",
      "112/112 [==============================] - 13s 119ms/step - loss: 1.2338 - accuracy: 0.5319 - val_loss: 1.1306 - val_accuracy: 0.5717\n",
      "Epoch 24/500\n",
      "112/112 [==============================] - 13s 117ms/step - loss: 1.2200 - accuracy: 0.5325 - val_loss: 1.1042 - val_accuracy: 0.5865\n",
      "Epoch 25/500\n",
      "112/112 [==============================] - 13s 118ms/step - loss: 1.2395 - accuracy: 0.5276 - val_loss: 1.1479 - val_accuracy: 0.5606\n",
      "Epoch 26/500\n",
      "112/112 [==============================] - 13s 117ms/step - loss: 1.2230 - accuracy: 0.5348 - val_loss: 1.0941 - val_accuracy: 0.5887\n",
      "Epoch 27/500\n",
      "112/112 [==============================] - 13s 119ms/step - loss: 1.2348 - accuracy: 0.5330 - val_loss: 1.1010 - val_accuracy: 0.5807\n",
      "Epoch 28/500\n",
      "112/112 [==============================] - 13s 118ms/step - loss: 1.2214 - accuracy: 0.5364 - val_loss: 1.0998 - val_accuracy: 0.5832\n",
      "Epoch 29/500\n",
      "112/112 [==============================] - 13s 117ms/step - loss: 1.2320 - accuracy: 0.5300 - val_loss: 1.1001 - val_accuracy: 0.5910\n",
      "Epoch 30/500\n",
      "112/112 [==============================] - 13s 118ms/step - loss: 1.2313 - accuracy: 0.5304 - val_loss: 1.1107 - val_accuracy: 0.5782\n",
      "Epoch 31/500\n",
      "112/112 [==============================] - 13s 119ms/step - loss: 1.2223 - accuracy: 0.5345 - val_loss: 1.1002 - val_accuracy: 0.5821\n",
      "Epoch 32/500\n",
      "112/112 [==============================] - 13s 117ms/step - loss: 1.2234 - accuracy: 0.5377 - val_loss: 1.0949 - val_accuracy: 0.5807\n",
      "Epoch 33/500\n",
      "112/112 [==============================] - 13s 117ms/step - loss: 1.2255 - accuracy: 0.5358 - val_loss: 1.0821 - val_accuracy: 0.5957\n",
      "Epoch 34/500\n",
      "112/112 [==============================] - 13s 118ms/step - loss: 1.2224 - accuracy: 0.5371 - val_loss: 1.0862 - val_accuracy: 0.5896\n",
      "Epoch 35/500\n",
      "112/112 [==============================] - 13s 118ms/step - loss: 1.2224 - accuracy: 0.5357 - val_loss: 1.0997 - val_accuracy: 0.5834\n",
      "Epoch 36/500\n",
      "112/112 [==============================] - 13s 118ms/step - loss: 1.2197 - accuracy: 0.5364 - val_loss: 1.0877 - val_accuracy: 0.5899\n",
      "Epoch 37/500\n",
      "112/112 [==============================] - 13s 120ms/step - loss: 1.2210 - accuracy: 0.5354 - val_loss: 1.0989 - val_accuracy: 0.5926\n",
      "Epoch 38/500\n",
      "112/112 [==============================] - 13s 117ms/step - loss: 1.2245 - accuracy: 0.5339 - val_loss: 1.0838 - val_accuracy: 0.5851\n",
      "Epoch 39/500\n",
      "112/112 [==============================] - 13s 116ms/step - loss: 1.2163 - accuracy: 0.5371 - val_loss: 1.1193 - val_accuracy: 0.5773\n",
      "Epoch 40/500\n",
      "112/112 [==============================] - 13s 116ms/step - loss: 1.2170 - accuracy: 0.5384 - val_loss: 1.1026 - val_accuracy: 0.5809\n",
      "Epoch 41/500\n",
      "112/112 [==============================] - 13s 117ms/step - loss: 1.2232 - accuracy: 0.5359 - val_loss: 1.0957 - val_accuracy: 0.5795\n",
      "Epoch 42/500\n",
      "112/112 [==============================] - 13s 115ms/step - loss: 1.2222 - accuracy: 0.5352 - val_loss: 1.1180 - val_accuracy: 0.5759\n",
      "Epoch 43/500\n",
      "112/112 [==============================] - 13s 117ms/step - loss: 1.2112 - accuracy: 0.5414 - val_loss: 1.0914 - val_accuracy: 0.5885\n",
      "Epoch 44/500\n",
      "112/112 [==============================] - 13s 117ms/step - loss: 1.2281 - accuracy: 0.5325 - val_loss: 1.0885 - val_accuracy: 0.5899\n",
      "Epoch 45/500\n",
      "112/112 [==============================] - 13s 117ms/step - loss: 1.2186 - accuracy: 0.5326 - val_loss: 1.1249 - val_accuracy: 0.5729\n",
      "Epoch 46/500\n",
      "112/112 [==============================] - 13s 117ms/step - loss: 1.2105 - accuracy: 0.5366 - val_loss: 1.1044 - val_accuracy: 0.5815\n",
      "Epoch 47/500\n",
      "112/112 [==============================] - 13s 115ms/step - loss: 1.2189 - accuracy: 0.5327 - val_loss: 1.0906 - val_accuracy: 0.5804\n",
      "Epoch 48/500\n",
      "112/112 [==============================] - 13s 118ms/step - loss: 1.2191 - accuracy: 0.5384 - val_loss: 1.1046 - val_accuracy: 0.5782\n",
      "Epoch 49/500\n",
      "112/112 [==============================] - 13s 119ms/step - loss: 1.2154 - accuracy: 0.5377 - val_loss: 1.0839 - val_accuracy: 0.5846\n",
      "Epoch 50/500\n",
      "112/112 [==============================] - 13s 118ms/step - loss: 1.2151 - accuracy: 0.5374 - val_loss: 1.0805 - val_accuracy: 0.5860\n",
      "Epoch 51/500\n",
      "112/112 [==============================] - 13s 114ms/step - loss: 1.2070 - accuracy: 0.5441 - val_loss: 1.0886 - val_accuracy: 0.5854\n",
      "Epoch 52/500\n",
      "112/112 [==============================] - 13s 119ms/step - loss: 1.2132 - accuracy: 0.5375 - val_loss: 1.0854 - val_accuracy: 0.5868\n",
      "Epoch 53/500\n",
      "112/112 [==============================] - 13s 119ms/step - loss: 1.2192 - accuracy: 0.5369 - val_loss: 1.0914 - val_accuracy: 0.5915\n",
      "Epoch 54/500\n",
      "112/112 [==============================] - 13s 119ms/step - loss: 1.2100 - accuracy: 0.5421 - val_loss: 1.1137 - val_accuracy: 0.5687\n",
      "Epoch 55/500\n",
      "112/112 [==============================] - 13s 119ms/step - loss: 1.2129 - accuracy: 0.5374 - val_loss: 1.0892 - val_accuracy: 0.5798\n",
      "Epoch 56/500\n",
      "112/112 [==============================] - 13s 119ms/step - loss: 1.2099 - accuracy: 0.5386 - val_loss: 1.0915 - val_accuracy: 0.5860\n",
      "Epoch 57/500\n",
      "112/112 [==============================] - 13s 117ms/step - loss: 1.2180 - accuracy: 0.5355 - val_loss: 1.0956 - val_accuracy: 0.5851\n",
      "Epoch 58/500\n",
      "112/112 [==============================] - 13s 118ms/step - loss: 1.2071 - accuracy: 0.5438 - val_loss: 1.0769 - val_accuracy: 0.5865\n",
      "Epoch 59/500\n",
      "112/112 [==============================] - 13s 120ms/step - loss: 1.2067 - accuracy: 0.5445 - val_loss: 1.0958 - val_accuracy: 0.5851\n",
      "Epoch 60/500\n",
      "112/112 [==============================] - 13s 119ms/step - loss: 1.2146 - accuracy: 0.5382 - val_loss: 1.0850 - val_accuracy: 0.5879\n",
      "Epoch 61/500\n",
      "112/112 [==============================] - 13s 118ms/step - loss: 1.2096 - accuracy: 0.5409 - val_loss: 1.0828 - val_accuracy: 0.5907\n",
      "Epoch 62/500\n",
      "112/112 [==============================] - 13s 120ms/step - loss: 1.2114 - accuracy: 0.5374 - val_loss: 1.1145 - val_accuracy: 0.5754\n",
      "Epoch 63/500\n",
      "112/112 [==============================] - 13s 118ms/step - loss: 1.2048 - accuracy: 0.5442 - val_loss: 1.0897 - val_accuracy: 0.5832\n",
      "Epoch 64/500\n",
      "112/112 [==============================] - 13s 118ms/step - loss: 1.2137 - accuracy: 0.5364 - val_loss: 1.0909 - val_accuracy: 0.5821\n",
      "Epoch 65/500\n",
      "112/112 [==============================] - 13s 118ms/step - loss: 1.2080 - accuracy: 0.5381 - val_loss: 1.1163 - val_accuracy: 0.5795\n",
      "Epoch 66/500\n",
      "112/112 [==============================] - 13s 120ms/step - loss: 1.2097 - accuracy: 0.5387 - val_loss: 1.0916 - val_accuracy: 0.5876\n",
      "Epoch 67/500\n",
      "112/112 [==============================] - 13s 119ms/step - loss: 1.2063 - accuracy: 0.5417 - val_loss: 1.0873 - val_accuracy: 0.5807\n",
      "Epoch 68/500\n",
      "112/112 [==============================] - 13s 119ms/step - loss: 1.2162 - accuracy: 0.5403 - val_loss: 1.0792 - val_accuracy: 0.5876\n",
      "Epoch 69/500\n",
      "112/112 [==============================] - 13s 118ms/step - loss: 1.2057 - accuracy: 0.5417 - val_loss: 1.0921 - val_accuracy: 0.5899\n",
      "Epoch 70/500\n",
      "112/112 [==============================] - 13s 118ms/step - loss: 1.2083 - accuracy: 0.5415 - val_loss: 1.0994 - val_accuracy: 0.5762\n",
      "Epoch 71/500\n",
      "112/112 [==============================] - 13s 118ms/step - loss: 1.2108 - accuracy: 0.5418 - val_loss: 1.0869 - val_accuracy: 0.5890\n",
      "Epoch 72/500\n",
      "112/112 [==============================] - 13s 119ms/step - loss: 1.2012 - accuracy: 0.5425 - val_loss: 1.0759 - val_accuracy: 0.5965\n",
      "Epoch 73/500\n",
      "112/112 [==============================] - 13s 120ms/step - loss: 1.2085 - accuracy: 0.5417 - val_loss: 1.0965 - val_accuracy: 0.5840\n",
      "Epoch 74/500\n",
      "112/112 [==============================] - 13s 120ms/step - loss: 1.1982 - accuracy: 0.5432 - val_loss: 1.0787 - val_accuracy: 0.5882\n",
      "Epoch 75/500\n",
      "112/112 [==============================] - 13s 117ms/step - loss: 1.2095 - accuracy: 0.5367 - val_loss: 1.0863 - val_accuracy: 0.5868\n",
      "Epoch 76/500\n",
      "112/112 [==============================] - 13s 118ms/step - loss: 1.2055 - accuracy: 0.5400 - val_loss: 1.0821 - val_accuracy: 0.5890\n",
      "Epoch 77/500\n",
      "112/112 [==============================] - 13s 118ms/step - loss: 1.2026 - accuracy: 0.5449 - val_loss: 1.0920 - val_accuracy: 0.5848\n",
      "Epoch 78/500\n",
      "112/112 [==============================] - 13s 117ms/step - loss: 1.1968 - accuracy: 0.5439 - val_loss: 1.0796 - val_accuracy: 0.5885\n",
      "Epoch 79/500\n",
      "112/112 [==============================] - 13s 117ms/step - loss: 1.2005 - accuracy: 0.5456 - val_loss: 1.0816 - val_accuracy: 0.5901\n",
      "Epoch 80/500\n",
      "112/112 [==============================] - 13s 119ms/step - loss: 1.2084 - accuracy: 0.5408 - val_loss: 1.1022 - val_accuracy: 0.5829\n",
      "Epoch 81/500\n",
      "112/112 [==============================] - 13s 120ms/step - loss: 1.2112 - accuracy: 0.5407 - val_loss: 1.0811 - val_accuracy: 0.5932\n",
      "Epoch 82/500\n",
      "112/112 [==============================] - 13s 120ms/step - loss: 1.2009 - accuracy: 0.5429 - val_loss: 1.0884 - val_accuracy: 0.5879\n",
      "Epoch 83/500\n",
      "112/112 [==============================] - 13s 118ms/step - loss: 1.1996 - accuracy: 0.5465 - val_loss: 1.0990 - val_accuracy: 0.5840\n",
      "Epoch 84/500\n",
      "112/112 [==============================] - 14s 121ms/step - loss: 1.2072 - accuracy: 0.5421 - val_loss: 1.1034 - val_accuracy: 0.5812\n",
      "Epoch 85/500\n",
      "112/112 [==============================] - 13s 117ms/step - loss: 1.2109 - accuracy: 0.5390 - val_loss: 1.0846 - val_accuracy: 0.5874\n",
      "Epoch 86/500\n",
      "112/112 [==============================] - 13s 118ms/step - loss: 1.1947 - accuracy: 0.5490 - val_loss: 1.0844 - val_accuracy: 0.5865\n",
      "Epoch 87/500\n",
      "112/112 [==============================] - 13s 116ms/step - loss: 1.2030 - accuracy: 0.5430 - val_loss: 1.0919 - val_accuracy: 0.5840\n",
      "Epoch 88/500\n",
      "112/112 [==============================] - 13s 118ms/step - loss: 1.2036 - accuracy: 0.5406 - val_loss: 1.1017 - val_accuracy: 0.5804\n",
      "Epoch 89/500\n",
      "112/112 [==============================] - 13s 118ms/step - loss: 1.1956 - accuracy: 0.5475 - val_loss: 1.0913 - val_accuracy: 0.5874\n",
      "Epoch 90/500\n",
      "112/112 [==============================] - 13s 118ms/step - loss: 1.2004 - accuracy: 0.5422 - val_loss: 1.0790 - val_accuracy: 0.5843\n",
      "Epoch 91/500\n",
      "112/112 [==============================] - 13s 118ms/step - loss: 1.2001 - accuracy: 0.5423 - val_loss: 1.1038 - val_accuracy: 0.5773\n",
      "Epoch 92/500\n",
      "112/112 [==============================] - 13s 118ms/step - loss: 1.2035 - accuracy: 0.5432 - val_loss: 1.0810 - val_accuracy: 0.5921\n",
      "Epoch 93/500\n",
      "112/112 [==============================] - 13s 118ms/step - loss: 1.1989 - accuracy: 0.5420 - val_loss: 1.0788 - val_accuracy: 0.5910\n",
      "Epoch 94/500\n",
      "112/112 [==============================] - 13s 118ms/step - loss: 1.1914 - accuracy: 0.5482 - val_loss: 1.0703 - val_accuracy: 0.5988\n",
      "Epoch 95/500\n",
      "112/112 [==============================] - 13s 118ms/step - loss: 1.1956 - accuracy: 0.5422 - val_loss: 1.0792 - val_accuracy: 0.5851\n",
      "Epoch 96/500\n",
      "112/112 [==============================] - 13s 117ms/step - loss: 1.1986 - accuracy: 0.5462 - val_loss: 1.0848 - val_accuracy: 0.5887\n",
      "Epoch 97/500\n",
      "112/112 [==============================] - 13s 117ms/step - loss: 1.1997 - accuracy: 0.5447 - val_loss: 1.0966 - val_accuracy: 0.5874\n",
      "Epoch 98/500\n",
      "112/112 [==============================] - 13s 119ms/step - loss: 1.1927 - accuracy: 0.5471 - val_loss: 1.0857 - val_accuracy: 0.5851\n",
      "Epoch 99/500\n",
      "112/112 [==============================] - 13s 118ms/step - loss: 1.1903 - accuracy: 0.5493 - val_loss: 1.1006 - val_accuracy: 0.5826\n",
      "Epoch 100/500\n",
      "112/112 [==============================] - 13s 117ms/step - loss: 1.1999 - accuracy: 0.5431 - val_loss: 1.0898 - val_accuracy: 0.5865\n",
      "Epoch 101/500\n",
      "112/112 [==============================] - 13s 118ms/step - loss: 1.1955 - accuracy: 0.5460 - val_loss: 1.0634 - val_accuracy: 0.6004\n",
      "Epoch 102/500\n",
      "112/112 [==============================] - 13s 117ms/step - loss: 1.1923 - accuracy: 0.5461 - val_loss: 1.0683 - val_accuracy: 0.5991\n",
      "Epoch 103/500\n",
      "112/112 [==============================] - 13s 118ms/step - loss: 1.1976 - accuracy: 0.5437 - val_loss: 1.0661 - val_accuracy: 0.5921\n",
      "Epoch 104/500\n",
      "112/112 [==============================] - 13s 119ms/step - loss: 1.1906 - accuracy: 0.5496 - val_loss: 1.0787 - val_accuracy: 0.5896\n",
      "Epoch 105/500\n",
      "112/112 [==============================] - 13s 118ms/step - loss: 1.1968 - accuracy: 0.5453 - val_loss: 1.0773 - val_accuracy: 0.5901\n",
      "Epoch 106/500\n",
      "112/112 [==============================] - 13s 118ms/step - loss: 1.2011 - accuracy: 0.5427 - val_loss: 1.0894 - val_accuracy: 0.5935\n",
      "Epoch 107/500\n",
      "112/112 [==============================] - 13s 120ms/step - loss: 1.1861 - accuracy: 0.5507 - val_loss: 1.0845 - val_accuracy: 0.5846\n",
      "Epoch 108/500\n",
      "112/112 [==============================] - 13s 119ms/step - loss: 1.1916 - accuracy: 0.5478 - val_loss: 1.0626 - val_accuracy: 0.5954\n",
      "Epoch 109/500\n",
      "112/112 [==============================] - 13s 117ms/step - loss: 1.1918 - accuracy: 0.5442 - val_loss: 1.0813 - val_accuracy: 0.5915\n",
      "Epoch 110/500\n",
      "112/112 [==============================] - 13s 118ms/step - loss: 1.1860 - accuracy: 0.5510 - val_loss: 1.0750 - val_accuracy: 0.5949\n",
      "Epoch 111/500\n",
      "112/112 [==============================] - 13s 117ms/step - loss: 1.1950 - accuracy: 0.5487 - val_loss: 1.0785 - val_accuracy: 0.5929\n",
      "Epoch 112/500\n",
      "112/112 [==============================] - 13s 119ms/step - loss: 1.1915 - accuracy: 0.5503 - val_loss: 1.0582 - val_accuracy: 0.6016\n",
      "Epoch 113/500\n",
      "112/112 [==============================] - 13s 118ms/step - loss: 1.1963 - accuracy: 0.5456 - val_loss: 1.0649 - val_accuracy: 0.5899\n",
      "Epoch 114/500\n",
      "112/112 [==============================] - 13s 117ms/step - loss: 1.1926 - accuracy: 0.5452 - val_loss: 1.0848 - val_accuracy: 0.5865\n",
      "Epoch 115/500\n",
      "112/112 [==============================] - 13s 118ms/step - loss: 1.1995 - accuracy: 0.5423 - val_loss: 1.0855 - val_accuracy: 0.5818\n",
      "Epoch 116/500\n",
      "112/112 [==============================] - 13s 117ms/step - loss: 1.1798 - accuracy: 0.5548 - val_loss: 1.0735 - val_accuracy: 0.5899\n",
      "Epoch 117/500\n",
      "112/112 [==============================] - 13s 119ms/step - loss: 1.1893 - accuracy: 0.5495 - val_loss: 1.0766 - val_accuracy: 0.5815\n",
      "Epoch 118/500\n",
      "112/112 [==============================] - 13s 117ms/step - loss: 1.1946 - accuracy: 0.5439 - val_loss: 1.0917 - val_accuracy: 0.5840\n",
      "Epoch 119/500\n",
      "112/112 [==============================] - 13s 118ms/step - loss: 1.1912 - accuracy: 0.5474 - val_loss: 1.0734 - val_accuracy: 0.5957\n",
      "Epoch 120/500\n",
      "112/112 [==============================] - 13s 118ms/step - loss: 1.1948 - accuracy: 0.5451 - val_loss: 1.0613 - val_accuracy: 0.5963\n",
      "Epoch 121/500\n",
      "112/112 [==============================] - 13s 118ms/step - loss: 1.1989 - accuracy: 0.5437 - val_loss: 1.0682 - val_accuracy: 0.5921\n",
      "Epoch 122/500\n",
      "112/112 [==============================] - 13s 120ms/step - loss: 1.1888 - accuracy: 0.5492 - val_loss: 1.0635 - val_accuracy: 0.5935\n",
      "Epoch 123/500\n",
      "112/112 [==============================] - 13s 117ms/step - loss: 1.1881 - accuracy: 0.5486 - val_loss: 1.0615 - val_accuracy: 0.5996\n",
      "Epoch 124/500\n",
      "112/112 [==============================] - 13s 119ms/step - loss: 1.1944 - accuracy: 0.5453 - val_loss: 1.0690 - val_accuracy: 0.5963\n",
      "Epoch 125/500\n",
      "112/112 [==============================] - 13s 118ms/step - loss: 1.1869 - accuracy: 0.5513 - val_loss: 1.0745 - val_accuracy: 0.5910\n",
      "Epoch 126/500\n",
      "112/112 [==============================] - 13s 119ms/step - loss: 1.1867 - accuracy: 0.5492 - val_loss: 1.0987 - val_accuracy: 0.5779\n",
      "Epoch 127/500\n",
      "112/112 [==============================] - 13s 120ms/step - loss: 1.1880 - accuracy: 0.5514 - val_loss: 1.0891 - val_accuracy: 0.5851\n",
      "Epoch 128/500\n",
      "112/112 [==============================] - 13s 119ms/step - loss: 1.1941 - accuracy: 0.5464 - val_loss: 1.0653 - val_accuracy: 0.5971\n",
      "Epoch 129/500\n",
      "112/112 [==============================] - 13s 118ms/step - loss: 1.1907 - accuracy: 0.5475 - val_loss: 1.0801 - val_accuracy: 0.5868\n",
      "Epoch 130/500\n",
      "112/112 [==============================] - 13s 119ms/step - loss: 1.1874 - accuracy: 0.5460 - val_loss: 1.0957 - val_accuracy: 0.5840\n",
      "Epoch 131/500\n",
      "112/112 [==============================] - 13s 121ms/step - loss: 1.1979 - accuracy: 0.5453 - val_loss: 1.0674 - val_accuracy: 0.5954\n",
      "Epoch 132/500\n",
      "112/112 [==============================] - 13s 116ms/step - loss: 1.1819 - accuracy: 0.5526 - val_loss: 1.0742 - val_accuracy: 0.5932\n",
      "Epoch 133/500\n",
      "112/112 [==============================] - 13s 118ms/step - loss: 1.1908 - accuracy: 0.5452 - val_loss: 1.0871 - val_accuracy: 0.5918\n",
      "Epoch 134/500\n",
      "112/112 [==============================] - 13s 118ms/step - loss: 1.1937 - accuracy: 0.5472 - val_loss: 1.0936 - val_accuracy: 0.5834\n",
      "Epoch 135/500\n",
      "112/112 [==============================] - 13s 117ms/step - loss: 1.1801 - accuracy: 0.5513 - val_loss: 1.0884 - val_accuracy: 0.5865\n",
      "Epoch 136/500\n",
      "112/112 [==============================] - 13s 119ms/step - loss: 1.1996 - accuracy: 0.5432 - val_loss: 1.0626 - val_accuracy: 0.5974\n",
      "Epoch 137/500\n",
      "112/112 [==============================] - 13s 119ms/step - loss: 1.1835 - accuracy: 0.5484 - val_loss: 1.0822 - val_accuracy: 0.5840\n",
      "Epoch 138/500\n",
      "112/112 [==============================] - 13s 119ms/step - loss: 1.1860 - accuracy: 0.5525 - val_loss: 1.0640 - val_accuracy: 0.5938\n",
      "Epoch 139/500\n",
      "112/112 [==============================] - 13s 117ms/step - loss: 1.1899 - accuracy: 0.5490 - val_loss: 1.0685 - val_accuracy: 0.5960\n",
      "Epoch 140/500\n",
      "112/112 [==============================] - 13s 119ms/step - loss: 1.1760 - accuracy: 0.5552 - val_loss: 1.0808 - val_accuracy: 0.5901\n",
      "Epoch 141/500\n",
      "112/112 [==============================] - 13s 118ms/step - loss: 1.1864 - accuracy: 0.5483 - val_loss: 1.0701 - val_accuracy: 0.5982\n",
      "Epoch 142/500\n",
      "112/112 [==============================] - 13s 117ms/step - loss: 1.1880 - accuracy: 0.5505 - val_loss: 1.0823 - val_accuracy: 0.5952\n",
      "Epoch 143/500\n",
      "112/112 [==============================] - 13s 119ms/step - loss: 1.1766 - accuracy: 0.5536 - val_loss: 1.0799 - val_accuracy: 0.5960\n",
      "Epoch 144/500\n",
      "112/112 [==============================] - 13s 119ms/step - loss: 1.1825 - accuracy: 0.5495 - val_loss: 1.0720 - val_accuracy: 0.5932\n",
      "Epoch 145/500\n",
      "112/112 [==============================] - 13s 118ms/step - loss: 1.1874 - accuracy: 0.5481 - val_loss: 1.0838 - val_accuracy: 0.5935\n",
      "Epoch 146/500\n",
      "112/112 [==============================] - 13s 117ms/step - loss: 1.1913 - accuracy: 0.5479 - val_loss: 1.0751 - val_accuracy: 0.5882\n",
      "Epoch 147/500\n",
      "112/112 [==============================] - 13s 120ms/step - loss: 1.1825 - accuracy: 0.5507 - val_loss: 1.0904 - val_accuracy: 0.5879\n",
      "Epoch 148/500\n",
      "112/112 [==============================] - 13s 119ms/step - loss: 1.1984 - accuracy: 0.5455 - val_loss: 1.0801 - val_accuracy: 0.5879\n",
      "Epoch 149/500\n",
      "112/112 [==============================] - 13s 116ms/step - loss: 1.1817 - accuracy: 0.5502 - val_loss: 1.0955 - val_accuracy: 0.5899\n",
      "Epoch 150/500\n",
      "112/112 [==============================] - 13s 117ms/step - loss: 1.1899 - accuracy: 0.5465 - val_loss: 1.0674 - val_accuracy: 0.5974\n",
      "Epoch 151/500\n",
      "112/112 [==============================] - 13s 117ms/step - loss: 1.1829 - accuracy: 0.5512 - val_loss: 1.0694 - val_accuracy: 0.5921\n",
      "Epoch 152/500\n",
      "112/112 [==============================] - 13s 118ms/step - loss: 1.1903 - accuracy: 0.5480 - val_loss: 1.0575 - val_accuracy: 0.6030\n",
      "Epoch 153/500\n",
      "112/112 [==============================] - 13s 118ms/step - loss: 1.1820 - accuracy: 0.5507 - val_loss: 1.0710 - val_accuracy: 0.5910\n",
      "Epoch 154/500\n",
      "112/112 [==============================] - 14s 122ms/step - loss: 1.1846 - accuracy: 0.5508 - val_loss: 1.0699 - val_accuracy: 0.5935\n",
      "Epoch 155/500\n",
      "112/112 [==============================] - 13s 119ms/step - loss: 1.1783 - accuracy: 0.5521 - val_loss: 1.0850 - val_accuracy: 0.5876\n",
      "Epoch 156/500\n",
      "112/112 [==============================] - 13s 118ms/step - loss: 1.1786 - accuracy: 0.5546 - val_loss: 1.0778 - val_accuracy: 0.5988\n",
      "Epoch 157/500\n",
      "112/112 [==============================] - 13s 118ms/step - loss: 1.1822 - accuracy: 0.5517 - val_loss: 1.0827 - val_accuracy: 0.5921\n",
      "Epoch 158/500\n",
      "112/112 [==============================] - 13s 118ms/step - loss: 1.1830 - accuracy: 0.5485 - val_loss: 1.0824 - val_accuracy: 0.5868\n",
      "Epoch 159/500\n",
      "112/112 [==============================] - 13s 116ms/step - loss: 1.1855 - accuracy: 0.5510 - val_loss: 1.0700 - val_accuracy: 0.5952\n",
      "Epoch 160/500\n",
      "112/112 [==============================] - 13s 117ms/step - loss: 1.1855 - accuracy: 0.5504 - val_loss: 1.0794 - val_accuracy: 0.5926\n",
      "Epoch 161/500\n",
      "112/112 [==============================] - 13s 119ms/step - loss: 1.1855 - accuracy: 0.5521 - val_loss: 1.0659 - val_accuracy: 0.6004\n",
      "Epoch 162/500\n",
      "112/112 [==============================] - 13s 118ms/step - loss: 1.1831 - accuracy: 0.5494 - val_loss: 1.0642 - val_accuracy: 0.5915\n",
      "Epoch 163/500\n",
      "112/112 [==============================] - 13s 117ms/step - loss: 1.1757 - accuracy: 0.5573 - val_loss: 1.0720 - val_accuracy: 0.5901\n",
      "Epoch 164/500\n",
      "112/112 [==============================] - 13s 118ms/step - loss: 1.1801 - accuracy: 0.5499 - val_loss: 1.0704 - val_accuracy: 0.5932\n",
      "Epoch 165/500\n",
      "112/112 [==============================] - 13s 119ms/step - loss: 1.1869 - accuracy: 0.5502 - val_loss: 1.0756 - val_accuracy: 0.5952\n",
      "Epoch 166/500\n",
      "112/112 [==============================] - 13s 117ms/step - loss: 1.1812 - accuracy: 0.5484 - val_loss: 1.0564 - val_accuracy: 0.5977\n",
      "Epoch 167/500\n",
      "112/112 [==============================] - 13s 117ms/step - loss: 1.1789 - accuracy: 0.5517 - val_loss: 1.0698 - val_accuracy: 0.5915\n",
      "Epoch 168/500\n",
      "112/112 [==============================] - 13s 115ms/step - loss: 1.1741 - accuracy: 0.5538 - val_loss: 1.0717 - val_accuracy: 0.5926\n",
      "Epoch 169/500\n",
      "112/112 [==============================] - 13s 118ms/step - loss: 1.1831 - accuracy: 0.5495 - val_loss: 1.0742 - val_accuracy: 0.5954\n",
      "Epoch 170/500\n",
      "112/112 [==============================] - 13s 119ms/step - loss: 1.1692 - accuracy: 0.5527 - val_loss: 1.0676 - val_accuracy: 0.6024\n",
      "Epoch 171/500\n",
      "112/112 [==============================] - 13s 118ms/step - loss: 1.1760 - accuracy: 0.5549 - val_loss: 1.0850 - val_accuracy: 0.5926\n",
      "Epoch 172/500\n",
      "112/112 [==============================] - 13s 120ms/step - loss: 1.1788 - accuracy: 0.5507 - val_loss: 1.0695 - val_accuracy: 0.5952\n",
      "Epoch 173/500\n",
      "112/112 [==============================] - 13s 120ms/step - loss: 1.1861 - accuracy: 0.5509 - val_loss: 1.0572 - val_accuracy: 0.5985\n",
      "Epoch 174/500\n",
      "112/112 [==============================] - 13s 118ms/step - loss: 1.1701 - accuracy: 0.5559 - val_loss: 1.0686 - val_accuracy: 0.5949\n",
      "Epoch 175/500\n",
      "112/112 [==============================] - 13s 117ms/step - loss: 1.1787 - accuracy: 0.5535 - val_loss: 1.0692 - val_accuracy: 0.5968\n",
      "Epoch 176/500\n",
      "112/112 [==============================] - 13s 117ms/step - loss: 1.1801 - accuracy: 0.5541 - val_loss: 1.0704 - val_accuracy: 0.6018\n",
      "Epoch 177/500\n",
      "112/112 [==============================] - 13s 116ms/step - loss: 1.1777 - accuracy: 0.5528 - val_loss: 1.0614 - val_accuracy: 0.5993\n",
      "Epoch 178/500\n",
      "112/112 [==============================] - 13s 117ms/step - loss: 1.1750 - accuracy: 0.5557 - val_loss: 1.0717 - val_accuracy: 0.5910\n",
      "Epoch 179/500\n",
      "112/112 [==============================] - 13s 118ms/step - loss: 1.1737 - accuracy: 0.5563 - val_loss: 1.0705 - val_accuracy: 0.5965\n",
      "Epoch 180/500\n",
      "112/112 [==============================] - 13s 118ms/step - loss: 1.1850 - accuracy: 0.5526 - val_loss: 1.0721 - val_accuracy: 0.5913\n",
      "Epoch 181/500\n",
      "112/112 [==============================] - 13s 118ms/step - loss: 1.1793 - accuracy: 0.5531 - val_loss: 1.0776 - val_accuracy: 0.5929\n",
      "Epoch 182/500\n",
      "112/112 [==============================] - 13s 118ms/step - loss: 1.1689 - accuracy: 0.5552 - val_loss: 1.0592 - val_accuracy: 0.5979\n",
      "Epoch 183/500\n",
      "112/112 [==============================] - 13s 119ms/step - loss: 1.1796 - accuracy: 0.5528 - val_loss: 1.0775 - val_accuracy: 0.5988\n",
      "Epoch 184/500\n",
      "112/112 [==============================] - 13s 117ms/step - loss: 1.1741 - accuracy: 0.5559 - val_loss: 1.0596 - val_accuracy: 0.6013\n",
      "Epoch 185/500\n",
      "112/112 [==============================] - 13s 118ms/step - loss: 1.1804 - accuracy: 0.5520 - val_loss: 1.0663 - val_accuracy: 0.5968\n",
      "Epoch 186/500\n",
      "112/112 [==============================] - 13s 117ms/step - loss: 1.1650 - accuracy: 0.5578 - val_loss: 1.0860 - val_accuracy: 0.5896\n",
      "Epoch 187/500\n",
      "112/112 [==============================] - 13s 117ms/step - loss: 1.1786 - accuracy: 0.5537 - val_loss: 1.0969 - val_accuracy: 0.5848\n",
      "Epoch 188/500\n",
      "112/112 [==============================] - 13s 119ms/step - loss: 1.1771 - accuracy: 0.5503 - val_loss: 1.0650 - val_accuracy: 0.6002\n",
      "Epoch 189/500\n",
      "112/112 [==============================] - 13s 119ms/step - loss: 1.1745 - accuracy: 0.5573 - val_loss: 1.0663 - val_accuracy: 0.6027\n",
      "Epoch 190/500\n",
      "112/112 [==============================] - 13s 119ms/step - loss: 1.1763 - accuracy: 0.5559 - val_loss: 1.0768 - val_accuracy: 0.5957\n",
      "Epoch 191/500\n",
      "112/112 [==============================] - 13s 118ms/step - loss: 1.1719 - accuracy: 0.5540 - val_loss: 1.0641 - val_accuracy: 0.6002\n",
      "Epoch 192/500\n",
      "112/112 [==============================] - 13s 119ms/step - loss: 1.1779 - accuracy: 0.5512 - val_loss: 1.0588 - val_accuracy: 0.5988\n",
      "Epoch 193/500\n",
      "112/112 [==============================] - 13s 119ms/step - loss: 1.1766 - accuracy: 0.5542 - val_loss: 1.0685 - val_accuracy: 0.5915\n",
      "Epoch 194/500\n",
      "112/112 [==============================] - 13s 118ms/step - loss: 1.1773 - accuracy: 0.5532 - val_loss: 1.0618 - val_accuracy: 0.5991\n",
      "Epoch 195/500\n",
      "112/112 [==============================] - 13s 117ms/step - loss: 1.1787 - accuracy: 0.5496 - val_loss: 1.0618 - val_accuracy: 0.6021\n",
      "Epoch 196/500\n",
      "112/112 [==============================] - 13s 120ms/step - loss: 1.1734 - accuracy: 0.5550 - val_loss: 1.0641 - val_accuracy: 0.5929\n",
      "Epoch 197/500\n",
      "112/112 [==============================] - 13s 119ms/step - loss: 1.1719 - accuracy: 0.5578 - val_loss: 1.0650 - val_accuracy: 0.6027\n",
      "Epoch 198/500\n",
      "112/112 [==============================] - 13s 117ms/step - loss: 1.1774 - accuracy: 0.5500 - val_loss: 1.0634 - val_accuracy: 0.5985\n",
      "Epoch 199/500\n",
      "112/112 [==============================] - 13s 116ms/step - loss: 1.1665 - accuracy: 0.5570 - val_loss: 1.0784 - val_accuracy: 0.5932\n",
      "Epoch 200/500\n",
      "112/112 [==============================] - 13s 119ms/step - loss: 1.1728 - accuracy: 0.5517 - val_loss: 1.0715 - val_accuracy: 0.5957\n",
      "Epoch 201/500\n",
      "112/112 [==============================] - 13s 120ms/step - loss: 1.1726 - accuracy: 0.5540 - val_loss: 1.0700 - val_accuracy: 0.5879\n",
      "Epoch 202/500\n",
      "112/112 [==============================] - 13s 118ms/step - loss: 1.1700 - accuracy: 0.5569 - val_loss: 1.0565 - val_accuracy: 0.6027\n"
     ]
    }
   ],
   "source": [
    "opt = Adam(lr=INIT_LR)\n",
    "model.compile(optimizer=opt,\n",
    "              loss=\"sparse_categorical_crossentropy\", # sparse means the label input was just a vector of classes from 0-6\n",
    "              metrics=[\"accuracy\"])\n",
    "history = model.fit(datagen.flow(train_images, train_labels, batch_size=BATCH_SIZE), \n",
    "          steps_per_epoch=len(train_images) // BATCH_SIZE,\n",
    "          validation_data=(valid_images, valid_labels),\n",
    "          validation_steps=len(valid_images) // BATCH_SIZE,\n",
    "          epochs=EPOCHS,\n",
    "          callbacks=[EarlyStopping(monitor='val_accuracy', mode='max', patience=50)])"
   ]
  },
  {
   "cell_type": "markdown",
   "metadata": {
    "colab_type": "text",
    "id": "lqDCRlfSUr8V"
   },
   "source": [
    "## Check Model Performance"
   ]
  },
  {
   "cell_type": "code",
   "execution_count": 97,
   "metadata": {
    "colab": {
     "base_uri": "https://localhost:8080/",
     "height": 255
    },
    "colab_type": "code",
    "executionInfo": {
     "elapsed": 14066,
     "status": "ok",
     "timestamp": 1589320393190,
     "user": {
      "displayName": "Martin Cheung",
      "photoUrl": "",
      "userId": "14827305478773109166"
     },
     "user_tz": -120
    },
    "id": "gqiQcfsUUr8V",
    "outputId": "d1779e14-39ca-48df-84a9-082f742f48b7"
   },
   "outputs": [
    {
     "name": "stdout",
     "output_type": "stream",
     "text": [
      "              precision    recall  f1-score   support\n",
      "\n",
      "           0       0.48      0.58      0.52       491\n",
      "           1       0.69      0.16      0.26        55\n",
      "           2       0.50      0.24      0.33       528\n",
      "           3       0.80      0.86      0.83       879\n",
      "           4       0.44      0.51      0.47       594\n",
      "           5       0.74      0.75      0.74       416\n",
      "           6       0.59      0.63      0.61       626\n",
      "\n",
      "    accuracy                           0.61      3589\n",
      "   macro avg       0.61      0.53      0.54      3589\n",
      "weighted avg       0.61      0.61      0.60      3589\n",
      "\n"
     ]
    }
   ],
   "source": [
    "predIdxs = model.predict(test_images, batch_size=BATCH_SIZE)\n",
    "print(classification_report(test_labels, np.argmax(predIdxs, axis=1)))\n",
    "# model.save(path+'model_1', save_format=\"h5\")"
   ]
  },
  {
   "cell_type": "code",
   "execution_count": 82,
   "metadata": {
    "colab": {
     "base_uri": "https://localhost:8080/",
     "height": 316
    },
    "colab_type": "code",
    "executionInfo": {
     "elapsed": 1304,
     "status": "ok",
     "timestamp": 1589320182148,
     "user": {
      "displayName": "Martin Cheung",
      "photoUrl": "",
      "userId": "14827305478773109166"
     },
     "user_tz": -120
    },
    "id": "hazV-cv-aYTE",
    "outputId": "3b6a559e-6423-4cc5-bb8e-14db138f445d"
   },
   "outputs": [
    {
     "data": {
      "text/plain": [
       "<matplotlib.legend.Legend at 0x7fecdbc5f630>"
      ]
     },
     "execution_count": 82,
     "metadata": {
      "tags": []
     },
     "output_type": "execute_result"
    },
    {
     "data": {
      "image/png": "[encoded data removed]",
      "text/plain": [
       "<Figure size 432x288 with 1 Axes>"
      ]
     },
     "metadata": {
      "tags": []
     },
     "output_type": "display_data"
    }
   ],
   "source": [
    "# plot the training loss and accuracy\n",
    "N = 202\n",
    "plt.style.use(\"ggplot\")\n",
    "plt.figure()\n",
    "plt.plot(np.arange(0, N), history.history[\"loss\"], label=\"train_loss\")\n",
    "plt.plot(np.arange(0, N), history.history[\"val_loss\"], label=\"val_loss\")\n",
    "plt.plot(np.arange(0, N), history.history[\"accuracy\"], label=\"train_acc\")\n",
    "plt.plot(np.arange(0, N), history.history[\"val_accuracy\"], label=\"val_acc\")\n",
    "plt.title(\"Training Loss and Accuracy\")\n",
    "plt.xlabel(\"Epoch #\")\n",
    "plt.ylabel(\"Loss/Accuracy\")\n",
    "plt.legend(loc=\"lower left\")\n"
   ]
  },
  {
   "cell_type": "markdown",
   "metadata": {
    "colab_type": "text",
    "id": "ni0aATg8Ur8X"
   },
   "source": [
    "## Save Model Checkpoints"
   ]
  },
  {
   "cell_type": "code",
   "execution_count": 99,
   "metadata": {
    "colab": {
     "base_uri": "https://localhost:8080/",
     "height": 34
    },
    "colab_type": "code",
    "executionInfo": {
     "elapsed": 2182,
     "status": "ok",
     "timestamp": 1589320427931,
     "user": {
      "displayName": "Martin Cheung",
      "photoUrl": "",
      "userId": "14827305478773109166"
     },
     "user_tz": -120
    },
    "id": "yff1M2anUr8Z",
    "outputId": "8b2dedc0-380e-4730-832d-1e560ff9978e"
   },
   "outputs": [
    {
     "name": "stdout",
     "output_type": "stream",
     "text": [
      "INFO:tensorflow:Assets written to: /content/gdrive/My Drive/model/assets\n"
     ]
    }
   ],
   "source": [
    "model.save(path+'model')"
   ]
  },
  {
   "cell_type": "code",
   "execution_count": 0,
   "metadata": {
    "colab": {},
    "colab_type": "code",
    "id": "2kkNXFQetf2K"
   },
   "outputs": [],
   "source": [
    "loaded_model = load_model(path+\"model\")"
   ]
  },
  {
   "cell_type": "code",
   "execution_count": 101,
   "metadata": {
    "colab": {
     "base_uri": "https://localhost:8080/",
     "height": 561
    },
    "colab_type": "code",
    "executionInfo": {
     "elapsed": 917,
     "status": "ok",
     "timestamp": 1589320443609,
     "user": {
      "displayName": "Martin Cheung",
      "photoUrl": "",
      "userId": "14827305478773109166"
     },
     "user_tz": -120
    },
    "id": "ftexVAeSq0ky",
    "outputId": "72510e24-c69a-4e16-9a30-19fc42fe2f90"
   },
   "outputs": [
    {
     "name": "stdout",
     "output_type": "stream",
     "text": [
      "Model: \"model_2\"\n",
      "_________________________________________________________________\n",
      "Layer (type)                 Output Shape              Param #   \n",
      "=================================================================\n",
      "input_6 (InputLayer)         [(None, 48, 48, 1)]       0         \n",
      "_________________________________________________________________\n",
      "conv2d_9 (Conv2D)            (None, 48, 48, 32)        320       \n",
      "_________________________________________________________________\n",
      "max_pooling2d_6 (MaxPooling2 (None, 24, 24, 32)        0         \n",
      "_________________________________________________________________\n",
      "dropout_9 (Dropout)          (None, 24, 24, 32)        0         \n",
      "_________________________________________________________________\n",
      "conv2d_10 (Conv2D)           (None, 24, 24, 32)        9248      \n",
      "_________________________________________________________________\n",
      "conv2d_11 (Conv2D)           (None, 24, 24, 32)        9248      \n",
      "_________________________________________________________________\n",
      "max_pooling2d_7 (MaxPooling2 (None, 12, 12, 32)        0         \n",
      "_________________________________________________________________\n",
      "dropout_10 (Dropout)         (None, 12, 12, 32)        0         \n",
      "_________________________________________________________________\n",
      "flatten_3 (Flatten)          (None, 4608)              0         \n",
      "_________________________________________________________________\n",
      "dense_6 (Dense)              (None, 512)               2359808   \n",
      "_________________________________________________________________\n",
      "dropout_11 (Dropout)         (None, 512)               0         \n",
      "_________________________________________________________________\n",
      "dense_7 (Dense)              (None, 7)                 3591      \n",
      "=================================================================\n",
      "Total params: 2,382,215\n",
      "Trainable params: 2,382,215\n",
      "Non-trainable params: 0\n",
      "_________________________________________________________________\n"
     ]
    }
   ],
   "source": [
    "loaded_model.summary()"
   ]
  },
  {
   "cell_type": "code",
   "execution_count": 0,
   "metadata": {
    "colab": {},
    "colab_type": "code",
    "id": "ycVncxarrQg6"
   },
   "outputs": [],
   "source": [
    "test_pred = model.predict(test_images)"
   ]
  },
  {
   "cell_type": "code",
   "execution_count": 105,
   "metadata": {
    "colab": {
     "base_uri": "https://localhost:8080/",
     "height": 34
    },
    "colab_type": "code",
    "executionInfo": {
     "elapsed": 895,
     "status": "ok",
     "timestamp": 1589320470440,
     "user": {
      "displayName": "Martin Cheung",
      "photoUrl": "",
      "userId": "14827305478773109166"
     },
     "user_tz": -120
    },
    "id": "og9kD_sgrqea",
    "outputId": "0c7722fd-a470-4529-f205-7c3bb1948bfb"
   },
   "outputs": [
    {
     "data": {
      "text/plain": [
       "array([0, 4, 2, ..., 4, 3, 4])"
      ]
     },
     "execution_count": 105,
     "metadata": {
      "tags": []
     },
     "output_type": "execute_result"
    }
   ],
   "source": [
    "np.argmax(test_pred,axis=1)"
   ]
  },
  {
   "cell_type": "code",
   "execution_count": 106,
   "metadata": {
    "colab": {
     "base_uri": "https://localhost:8080/",
     "height": 238
    },
    "colab_type": "code",
    "executionInfo": {
     "elapsed": 937,
     "status": "ok",
     "timestamp": 1589320473864,
     "user": {
      "displayName": "Martin Cheung",
      "photoUrl": "",
      "userId": "14827305478773109166"
     },
     "user_tz": -120
    },
    "id": "pEUW3de-2jXr",
    "outputId": "fe0d9ce3-1cba-4ee7-c0d0-bc2ae644d5da"
   },
   "outputs": [
    {
     "data": {
      "text/plain": [
       "array([[5.14286041e-01, 2.76743099e-02, 4.86472957e-02, ...,\n",
       "        2.62869149e-01, 1.46011764e-03, 1.44957006e-01],\n",
       "       [7.50989988e-02, 6.67435233e-04, 1.76300138e-01, ...,\n",
       "        5.60987830e-01, 3.65913995e-02, 9.74462181e-02],\n",
       "       [1.85194850e-01, 1.87860487e-03, 3.44773263e-01, ...,\n",
       "        2.58975118e-01, 1.03105735e-02, 1.66907832e-01],\n",
       "       ...,\n",
       "       [1.27819702e-01, 8.83104932e-03, 1.96493760e-01, ...,\n",
       "        3.86763960e-01, 1.56182877e-03, 2.12763578e-01],\n",
       "       [2.05109399e-02, 4.69656399e-04, 6.70011295e-03, ...,\n",
       "        3.23679522e-02, 8.85784044e-04, 6.41231388e-02],\n",
       "       [1.85372055e-01, 3.45439743e-03, 1.18007764e-01, ...,\n",
       "        3.81051362e-01, 5.50130475e-03, 3.05538833e-01]], dtype=float32)"
      ]
     },
     "execution_count": 106,
     "metadata": {
      "tags": []
     },
     "output_type": "execute_result"
    }
   ],
   "source": [
    "test_pred"
   ]
  },
  {
   "cell_type": "code",
   "execution_count": 0,
   "metadata": {
    "colab": {},
    "colab_type": "code",
    "id": "Fu3cSWeb2pdM"
   },
   "outputs": [],
   "source": []
  }
 ],
 "metadata": {
  "accelerator": "GPU",
  "colab": {
   "collapsed_sections": [],
   "machine_shape": "hm",
   "name": "Facial Emotion Recognition Model - CNN.ipynb",
   "provenance": []
  },
  "kernelspec": {
   "display_name": "Python 3",
   "language": "python",
   "name": "python3"
  },
  "language_info": {
   "codemirror_mode": {
    "name": "ipython",
    "version": 3
   },
   "file_extension": ".py",
   "mimetype": "text/x-python",
   "name": "python",
   "nbconvert_exporter": "python",
   "pygments_lexer": "ipython3",
   "version": "3.7.7"
  }
 },
 "nbformat": 4,
 "nbformat_minor": 1
}
